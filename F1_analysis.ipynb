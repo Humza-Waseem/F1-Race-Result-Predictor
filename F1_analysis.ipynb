{
 "cells": [
  {
   "cell_type": "code",
   "execution_count": 2,
   "metadata": {
    "id": "cMtI0r3Riatk"
   },
   "outputs": [],
   "source": [
    "import pandas as pd\n",
    "import matplotlib.pyplot as plt\n",
    "import seaborn as sns"
   ]
  },
  {
   "cell_type": "markdown",
   "metadata": {
    "id": "KhmZEdlch8-i"
   },
   "source": [
    "#F1 Data Analysis\n"
   ]
  },
  {
   "cell_type": "markdown",
   "metadata": {
    "id": "3y1hY2-iRopG"
   },
   "source": [
    "##Read Files"
   ]
  },
  {
   "cell_type": "code",
   "execution_count": 3,
   "metadata": {
    "colab": {
     "base_uri": "https://localhost:8080/"
    },
    "collapsed": true,
    "id": "AYwrUuxjPYv7",
    "outputId": "33c48ef7-8164-4033-fd9b-ba00681f2814"
   },
   "outputs": [
    {
     "name": "stdout",
     "output_type": "stream",
     "text": [
      "driverId       0\n",
      "driverRef      0\n",
      "number         0\n",
      "code           0\n",
      "forename       0\n",
      "surname        0\n",
      "dob            0\n",
      "nationality    0\n",
      "url            0\n",
      "dtype: int64\n"
     ]
    }
   ],
   "source": [
    "import pandas as pd\n",
    "import matplotlib.pyplot as plt\n",
    "import seaborn as sns\n",
    "def read_csv_files(paths):\n",
    "    data_frames = {}\n",
    "    for path in paths:\n",
    "        file_name = path.split('/')[-1].replace('.csv', '')  # Get the file name without the \".csv\" extension\n",
    "        data_frames[file_name] = pd.read_csv(path)  # Store the DataFrame in the dictionary\n",
    "    return data_frames\n",
    "\n",
    "files_path = [\n",
    "    './Data/circuits.csv', './Data/constructor_results.csv', './Data/constructor_standings.csv',\n",
    "    './Data/constructors.csv', './Data/driver_standings.csv', './Data/drivers.csv',\n",
    "    './Data/lap_times.csv', './Data/pit_stops.csv', './Data/qualifying.csv',\n",
    "    './Data/races.csv', './Data/results.csv', './Data/seasons.csv', './Data/sprint_results.csv'\n",
    "]\n",
    "\n",
    "data_frames = read_csv_files(files_path)\n",
    "data_frames['drivers'].head(50)\n",
    "print(data_frames['drivers'].isnull().sum())\n",
    "df_races = data_frames['races']\n",
    "df_results = data_frames['results']\n"
   ]
  },
  {
   "cell_type": "markdown",
   "metadata": {
    "id": "4UJMypmNAVgw"
   },
   "source": [
    "###Tables Naming\n"
   ]
  },
  {
   "cell_type": "code",
   "execution_count": 4,
   "metadata": {
    "id": "88VIzlrTAYmO"
   },
   "outputs": [],
   "source": [
    "df_races = data_frames['races']\n",
    "df_results = data_frames['results']\n",
    "df_drivers = data_frames['drivers']\n",
    "df_constructors = data_frames['constructors']\n",
    "df_constructor_results = data_frames['constructor_results']\n",
    "df_constructor_standings = data_frames['constructor_standings']\n",
    "df_driver_standings = data_frames['driver_standings']\n",
    "df_lap_times = data_frames['lap_times']\n",
    "df_pit_stops = data_frames['pit_stops']\n",
    "df_qualifying = data_frames['qualifying']\n",
    "df_seasons = data_frames['seasons']\n",
    "df_sprint_results = data_frames['sprint_results']\n"
   ]
  },
  {
   "cell_type": "markdown",
   "metadata": {
    "id": "1t3SRfltAaFm"
   },
   "source": [
    "###EDA\n",
    "\n"
   ]
  },
  {
   "cell_type": "code",
   "execution_count": 5,
   "metadata": {
    "colab": {
     "base_uri": "https://localhost:8080/"
    },
    "id": "4hLq2dpmAUv-",
    "outputId": "8de9e7a5-d1fa-4696-c698-8b53ad402742"
   },
   "outputs": [
    {
     "name": "stdout",
     "output_type": "stream",
     "text": [
      "None\n",
      "None\n"
     ]
    }
   ],
   "source": [
    "print(df_races.drop_duplicates(inplace=True))\n",
    "print(df_results.drop_duplicates(inplace=True))\n",
    "df_drivers.drop_duplicates(inplace=True)"
   ]
  },
  {
   "cell_type": "code",
   "execution_count": 6,
   "metadata": {
    "colab": {
     "base_uri": "https://localhost:8080/"
    },
    "collapsed": true,
    "id": "V-qSOJpHTnYE",
    "outputId": "6c5724ec-87b0-4659-9eb8-23cb1c18af99"
   },
   "outputs": [
    {
     "name": "stdout",
     "output_type": "stream",
     "text": [
      "     driverId       driverRef number code forename     surname         dob  \\\n",
      "0           1        hamilton     44  ham    Lewis    Hamilton  1985-01-07   \n",
      "829       830  max_verstappen     33  ver      Max  Verstappen  1997-09-30   \n",
      "\n",
      "    nationality                                          url  \n",
      "0       British  http://en.wikipedia.org/wiki/Lewis_Hamilton  \n",
      "829       Dutch  http://en.wikipedia.org/wiki/Max_Verstappen  \n"
     ]
    }
   ],
   "source": [
    "df = data_frames['drivers']\n",
    "df['code'] = df['code'].str.lower()\n",
    "\n",
    "max_driver_data = df[(df['code'] == 'ham') | ((df['code'] == 'ver') & (df['nationality'] == 'Dutch'))]\n",
    "\n",
    "print(max_driver_data)\n"
   ]
  },
  {
   "cell_type": "code",
   "execution_count": 7,
   "metadata": {
    "colab": {
     "base_uri": "https://localhost:8080/",
     "height": 423
    },
    "collapsed": true,
    "id": "1s1Xp27ifE9B",
    "outputId": "a8f6dd24-2c3e-4637-a213-f786394fde10"
   },
   "outputs": [
    {
     "data": {
      "text/html": [
       "<div>\n",
       "<style scoped>\n",
       "    .dataframe tbody tr th:only-of-type {\n",
       "        vertical-align: middle;\n",
       "    }\n",
       "\n",
       "    .dataframe tbody tr th {\n",
       "        vertical-align: top;\n",
       "    }\n",
       "\n",
       "    .dataframe thead th {\n",
       "        text-align: right;\n",
       "    }\n",
       "</style>\n",
       "<table border=\"1\" class=\"dataframe\">\n",
       "  <thead>\n",
       "    <tr style=\"text-align: right;\">\n",
       "      <th></th>\n",
       "      <th>driverId</th>\n",
       "      <th>driverRef</th>\n",
       "      <th>number</th>\n",
       "      <th>code</th>\n",
       "      <th>forename</th>\n",
       "      <th>surname</th>\n",
       "      <th>dob</th>\n",
       "      <th>nationality</th>\n",
       "    </tr>\n",
       "  </thead>\n",
       "  <tbody>\n",
       "    <tr>\n",
       "      <th>0</th>\n",
       "      <td>1</td>\n",
       "      <td>hamilton</td>\n",
       "      <td>44</td>\n",
       "      <td>ham</td>\n",
       "      <td>Lewis</td>\n",
       "      <td>Hamilton</td>\n",
       "      <td>1985-01-07</td>\n",
       "      <td>British</td>\n",
       "    </tr>\n",
       "    <tr>\n",
       "      <th>1</th>\n",
       "      <td>2</td>\n",
       "      <td>heidfeld</td>\n",
       "      <td>\\N</td>\n",
       "      <td>hei</td>\n",
       "      <td>Nick</td>\n",
       "      <td>Heidfeld</td>\n",
       "      <td>1977-05-10</td>\n",
       "      <td>German</td>\n",
       "    </tr>\n",
       "    <tr>\n",
       "      <th>2</th>\n",
       "      <td>3</td>\n",
       "      <td>rosberg</td>\n",
       "      <td>6</td>\n",
       "      <td>ros</td>\n",
       "      <td>Nico</td>\n",
       "      <td>Rosberg</td>\n",
       "      <td>1985-06-27</td>\n",
       "      <td>German</td>\n",
       "    </tr>\n",
       "    <tr>\n",
       "      <th>3</th>\n",
       "      <td>4</td>\n",
       "      <td>alonso</td>\n",
       "      <td>14</td>\n",
       "      <td>alo</td>\n",
       "      <td>Fernando</td>\n",
       "      <td>Alonso</td>\n",
       "      <td>1981-07-29</td>\n",
       "      <td>Spanish</td>\n",
       "    </tr>\n",
       "    <tr>\n",
       "      <th>4</th>\n",
       "      <td>5</td>\n",
       "      <td>kovalainen</td>\n",
       "      <td>\\N</td>\n",
       "      <td>kov</td>\n",
       "      <td>Heikki</td>\n",
       "      <td>Kovalainen</td>\n",
       "      <td>1981-10-19</td>\n",
       "      <td>Finnish</td>\n",
       "    </tr>\n",
       "    <tr>\n",
       "      <th>...</th>\n",
       "      <td>...</td>\n",
       "      <td>...</td>\n",
       "      <td>...</td>\n",
       "      <td>...</td>\n",
       "      <td>...</td>\n",
       "      <td>...</td>\n",
       "      <td>...</td>\n",
       "      <td>...</td>\n",
       "    </tr>\n",
       "    <tr>\n",
       "      <th>854</th>\n",
       "      <td>856</td>\n",
       "      <td>de_vries</td>\n",
       "      <td>21</td>\n",
       "      <td>dev</td>\n",
       "      <td>Nyck</td>\n",
       "      <td>de Vries</td>\n",
       "      <td>1995-02-06</td>\n",
       "      <td>Dutch</td>\n",
       "    </tr>\n",
       "    <tr>\n",
       "      <th>855</th>\n",
       "      <td>857</td>\n",
       "      <td>piastri</td>\n",
       "      <td>81</td>\n",
       "      <td>pia</td>\n",
       "      <td>Oscar</td>\n",
       "      <td>Piastri</td>\n",
       "      <td>2001-04-06</td>\n",
       "      <td>Australian</td>\n",
       "    </tr>\n",
       "    <tr>\n",
       "      <th>856</th>\n",
       "      <td>858</td>\n",
       "      <td>sargeant</td>\n",
       "      <td>2</td>\n",
       "      <td>sar</td>\n",
       "      <td>Logan</td>\n",
       "      <td>Sargeant</td>\n",
       "      <td>2000-12-31</td>\n",
       "      <td>American</td>\n",
       "    </tr>\n",
       "    <tr>\n",
       "      <th>857</th>\n",
       "      <td>859</td>\n",
       "      <td>lawson</td>\n",
       "      <td>40</td>\n",
       "      <td>law</td>\n",
       "      <td>Liam</td>\n",
       "      <td>Lawson</td>\n",
       "      <td>2002-02-11</td>\n",
       "      <td>New Zealander</td>\n",
       "    </tr>\n",
       "    <tr>\n",
       "      <th>858</th>\n",
       "      <td>860</td>\n",
       "      <td>bearman</td>\n",
       "      <td>38</td>\n",
       "      <td>bea</td>\n",
       "      <td>Oliver</td>\n",
       "      <td>Bearman</td>\n",
       "      <td>2005-05-08</td>\n",
       "      <td>British</td>\n",
       "    </tr>\n",
       "  </tbody>\n",
       "</table>\n",
       "<p>859 rows × 8 columns</p>\n",
       "</div>"
      ],
      "text/plain": [
       "     driverId   driverRef number code  forename     surname         dob  \\\n",
       "0           1    hamilton     44  ham     Lewis    Hamilton  1985-01-07   \n",
       "1           2    heidfeld     \\N  hei      Nick    Heidfeld  1977-05-10   \n",
       "2           3     rosberg      6  ros      Nico     Rosberg  1985-06-27   \n",
       "3           4      alonso     14  alo  Fernando      Alonso  1981-07-29   \n",
       "4           5  kovalainen     \\N  kov    Heikki  Kovalainen  1981-10-19   \n",
       "..        ...         ...    ...  ...       ...         ...         ...   \n",
       "854       856    de_vries     21  dev      Nyck    de Vries  1995-02-06   \n",
       "855       857     piastri     81  pia     Oscar     Piastri  2001-04-06   \n",
       "856       858    sargeant      2  sar     Logan    Sargeant  2000-12-31   \n",
       "857       859      lawson     40  law      Liam      Lawson  2002-02-11   \n",
       "858       860     bearman     38  bea    Oliver     Bearman  2005-05-08   \n",
       "\n",
       "       nationality  \n",
       "0          British  \n",
       "1           German  \n",
       "2           German  \n",
       "3          Spanish  \n",
       "4          Finnish  \n",
       "..             ...  \n",
       "854          Dutch  \n",
       "855     Australian  \n",
       "856       American  \n",
       "857  New Zealander  \n",
       "858        British  \n",
       "\n",
       "[859 rows x 8 columns]"
      ]
     },
     "execution_count": 7,
     "metadata": {},
     "output_type": "execute_result"
    }
   ],
   "source": [
    "data_frames['drivers'].drop('url', axis=1, inplace=True)\n",
    "data_frames['drivers']\n"
   ]
  },
  {
   "cell_type": "code",
   "execution_count": 8,
   "metadata": {
    "colab": {
     "base_uri": "https://localhost:8080/",
     "height": 423
    },
    "collapsed": true,
    "id": "hM1cYyERfF84",
    "outputId": "869267dd-9b02-4190-977e-271336ed54e8"
   },
   "outputs": [
    {
     "data": {
      "text/html": [
       "<div>\n",
       "<style scoped>\n",
       "    .dataframe tbody tr th:only-of-type {\n",
       "        vertical-align: middle;\n",
       "    }\n",
       "\n",
       "    .dataframe tbody tr th {\n",
       "        vertical-align: top;\n",
       "    }\n",
       "\n",
       "    .dataframe thead th {\n",
       "        text-align: right;\n",
       "    }\n",
       "</style>\n",
       "<table border=\"1\" class=\"dataframe\">\n",
       "  <thead>\n",
       "    <tr style=\"text-align: right;\">\n",
       "      <th></th>\n",
       "      <th>driverId</th>\n",
       "      <th>driverRef</th>\n",
       "      <th>number</th>\n",
       "      <th>code</th>\n",
       "    </tr>\n",
       "  </thead>\n",
       "  <tbody>\n",
       "    <tr>\n",
       "      <th>0</th>\n",
       "      <td>1</td>\n",
       "      <td>hamilton</td>\n",
       "      <td>44</td>\n",
       "      <td>ham</td>\n",
       "    </tr>\n",
       "    <tr>\n",
       "      <th>1</th>\n",
       "      <td>2</td>\n",
       "      <td>heidfeld</td>\n",
       "      <td>\\N</td>\n",
       "      <td>hei</td>\n",
       "    </tr>\n",
       "    <tr>\n",
       "      <th>2</th>\n",
       "      <td>3</td>\n",
       "      <td>rosberg</td>\n",
       "      <td>6</td>\n",
       "      <td>ros</td>\n",
       "    </tr>\n",
       "    <tr>\n",
       "      <th>3</th>\n",
       "      <td>4</td>\n",
       "      <td>alonso</td>\n",
       "      <td>14</td>\n",
       "      <td>alo</td>\n",
       "    </tr>\n",
       "    <tr>\n",
       "      <th>4</th>\n",
       "      <td>5</td>\n",
       "      <td>kovalainen</td>\n",
       "      <td>\\N</td>\n",
       "      <td>kov</td>\n",
       "    </tr>\n",
       "    <tr>\n",
       "      <th>...</th>\n",
       "      <td>...</td>\n",
       "      <td>...</td>\n",
       "      <td>...</td>\n",
       "      <td>...</td>\n",
       "    </tr>\n",
       "    <tr>\n",
       "      <th>854</th>\n",
       "      <td>856</td>\n",
       "      <td>de_vries</td>\n",
       "      <td>21</td>\n",
       "      <td>dev</td>\n",
       "    </tr>\n",
       "    <tr>\n",
       "      <th>855</th>\n",
       "      <td>857</td>\n",
       "      <td>piastri</td>\n",
       "      <td>81</td>\n",
       "      <td>pia</td>\n",
       "    </tr>\n",
       "    <tr>\n",
       "      <th>856</th>\n",
       "      <td>858</td>\n",
       "      <td>sargeant</td>\n",
       "      <td>2</td>\n",
       "      <td>sar</td>\n",
       "    </tr>\n",
       "    <tr>\n",
       "      <th>857</th>\n",
       "      <td>859</td>\n",
       "      <td>lawson</td>\n",
       "      <td>40</td>\n",
       "      <td>law</td>\n",
       "    </tr>\n",
       "    <tr>\n",
       "      <th>858</th>\n",
       "      <td>860</td>\n",
       "      <td>bearman</td>\n",
       "      <td>38</td>\n",
       "      <td>bea</td>\n",
       "    </tr>\n",
       "  </tbody>\n",
       "</table>\n",
       "<p>859 rows × 4 columns</p>\n",
       "</div>"
      ],
      "text/plain": [
       "     driverId   driverRef number code\n",
       "0           1    hamilton     44  ham\n",
       "1           2    heidfeld     \\N  hei\n",
       "2           3     rosberg      6  ros\n",
       "3           4      alonso     14  alo\n",
       "4           5  kovalainen     \\N  kov\n",
       "..        ...         ...    ...  ...\n",
       "854       856    de_vries     21  dev\n",
       "855       857     piastri     81  pia\n",
       "856       858    sargeant      2  sar\n",
       "857       859      lawson     40  law\n",
       "858       860     bearman     38  bea\n",
       "\n",
       "[859 rows x 4 columns]"
      ]
     },
     "execution_count": 8,
     "metadata": {},
     "output_type": "execute_result"
    }
   ],
   "source": [
    "data_frames['drivers'].drop('dob', axis=1, inplace=True)\n",
    "data_frames['drivers'].drop('nationality', axis=1, inplace=True)\n",
    "data_frames['drivers'].drop('forename', axis=1, inplace=True)\n",
    "data_frames['drivers'].drop('surname', axis=1, inplace=True)\n",
    "data_frames['drivers']"
   ]
  },
  {
   "cell_type": "code",
   "execution_count": 9,
   "metadata": {
    "colab": {
     "base_uri": "https://localhost:8080/"
    },
    "collapsed": true,
    "id": "IHjVyWZsfkHn",
    "outputId": "2450e898-3160-412e-db77-9d8eb6b819ac"
   },
   "outputs": [
    {
     "name": "stdout",
     "output_type": "stream",
     "text": [
      "Index(['driverId', 'driverRef', 'number', 'code'], dtype='object')\n"
     ]
    }
   ],
   "source": [
    "print(data_frames['drivers'].columns)"
   ]
  },
  {
   "cell_type": "markdown",
   "metadata": {
    "id": "ESfRVNOBgFSY"
   },
   "source": [
    "get the column names from the tables\n"
   ]
  },
  {
   "cell_type": "code",
   "execution_count": 10,
   "metadata": {
    "colab": {
     "base_uri": "https://localhost:8080/"
    },
    "collapsed": true,
    "id": "HD_iwDsigErw",
    "outputId": "506839e9-4618-4f35-f3f4-3945569554ec"
   },
   "outputs": [
    {
     "name": "stdout",
     "output_type": "stream",
     "text": [
      "Name of Columns in Tables:  {'circuits': ['circuitId', 'circuitRef', 'name', 'location', 'country', 'lat', 'lng', 'alt', 'url'], 'constructor_results': ['constructorResultsId', 'raceId', 'constructorId', 'points', 'status'], 'constructor_standings': ['constructorStandingsId', 'raceId', 'constructorId', 'points', 'position', 'positionText', 'wins'], 'constructors': ['constructorId', 'constructorRef', 'name', 'nationality', 'url'], 'driver_standings': ['driverStandingsId', 'raceId', 'driverId', 'points', 'position', 'positionText', 'wins'], 'drivers': ['driverId', 'driverRef', 'number', 'code'], 'lap_times': ['raceId', 'driverId', 'lap', 'position', 'time', 'milliseconds'], 'pit_stops': ['raceId', 'driverId', 'stop', 'lap', 'time', 'duration', 'milliseconds'], 'qualifying': ['qualifyId', 'raceId', 'driverId', 'constructorId', 'number', 'position', 'q1', 'q2', 'q3'], 'races': ['raceId', 'year', 'round', 'circuitId', 'name', 'date', 'time', 'url', 'fp1_date', 'fp1_time', 'fp2_date', 'fp2_time', 'fp3_date', 'fp3_time', 'quali_date', 'quali_time', 'sprint_date', 'sprint_time'], 'results': ['resultId', 'raceId', 'driverId', 'constructorId', 'number', 'grid', 'position', 'positionText', 'positionOrder', 'points', 'laps', 'time', 'milliseconds', 'fastestLap', 'rank', 'fastestLapTime', 'fastestLapSpeed', 'statusId'], 'seasons': ['year', 'url'], 'sprint_results': ['resultId', 'raceId', 'driverId', 'constructorId', 'number', 'grid', 'position', 'positionText', 'positionOrder', 'points', 'laps', 'time', 'milliseconds', 'fastestLap', 'fastestLapTime', 'statusId']}\n",
      "Tables:  ['circuits', 'constructor_results', 'constructor_standings', 'constructors', 'driver_standings', 'drivers', 'lap_times', 'pit_stops', 'qualifying', 'races', 'results', 'seasons', 'sprint_results']\n"
     ]
    }
   ],
   "source": [
    "def get_column_names(data_frames):\n",
    "    column_names = {}\n",
    "    for table_name, df in data_frames.items():\n",
    "        column_names[table_name] = df.columns.tolist()\n",
    "    return column_names\n",
    "\n",
    "def get_table_names(data_frames):\n",
    "    return list(data_frames.keys())\n",
    "\n",
    "column_names = get_column_names(data_frames)\n",
    "print( f\"Name of Columns in Tables:  {column_names}\")\n",
    "\n",
    "table_names = get_table_names(data_frames)\n",
    "print( f\"Tables:  {table_names}\")"
   ]
  },
  {
   "cell_type": "markdown",
   "metadata": {
    "id": "t9Lwic4iiDH9"
   },
   "source": [
    "Exploratory DataAnalysis EDA\n"
   ]
  },
  {
   "cell_type": "code",
   "execution_count": 11,
   "metadata": {
    "colab": {
     "base_uri": "https://localhost:8080/"
    },
    "collapsed": true,
    "id": "RsqHBs4SiHfm",
    "outputId": "e6fe4b78-13bf-4a2a-a5de-3115ef83d53e"
   },
   "outputs": [
    {
     "name": "stdout",
     "output_type": "stream",
     "text": [
      "         driverId\n",
      "count  859.000000\n",
      "mean   430.059371\n",
      "std    248.213115\n",
      "min      1.000000\n",
      "25%    215.500000\n",
      "50%    430.000000\n",
      "75%    644.500000\n",
      "max    860.000000\n",
      "<class 'pandas.core.frame.DataFrame'>\n",
      "RangeIndex: 859 entries, 0 to 858\n",
      "Data columns (total 4 columns):\n",
      " #   Column     Non-Null Count  Dtype \n",
      "---  ------     --------------  ----- \n",
      " 0   driverId   859 non-null    int64 \n",
      " 1   driverRef  859 non-null    object\n",
      " 2   number     859 non-null    object\n",
      " 3   code       859 non-null    object\n",
      "dtypes: int64(1), object(3)\n",
      "memory usage: 27.0+ KB\n",
      "None\n"
     ]
    }
   ],
   "source": [
    "print(data_frames['drivers'].describe())\n",
    "print(data_frames['drivers'].info())"
   ]
  },
  {
   "cell_type": "code",
   "execution_count": 12,
   "metadata": {
    "colab": {
     "base_uri": "https://localhost:8080/",
     "height": 356
    },
    "collapsed": true,
    "id": "uqpR_PpaoApZ",
    "outputId": "4277d289-f023-4d1a-c7ea-8fe4aa76eb70"
   },
   "outputs": [
    {
     "data": {
      "text/html": [
       "<div>\n",
       "<style scoped>\n",
       "    .dataframe tbody tr th:only-of-type {\n",
       "        vertical-align: middle;\n",
       "    }\n",
       "\n",
       "    .dataframe tbody tr th {\n",
       "        vertical-align: top;\n",
       "    }\n",
       "\n",
       "    .dataframe thead th {\n",
       "        text-align: right;\n",
       "    }\n",
       "</style>\n",
       "<table border=\"1\" class=\"dataframe\">\n",
       "  <thead>\n",
       "    <tr style=\"text-align: right;\">\n",
       "      <th></th>\n",
       "      <th>resultId</th>\n",
       "      <th>raceId</th>\n",
       "      <th>driverId</th>\n",
       "      <th>constructorId</th>\n",
       "      <th>number</th>\n",
       "      <th>grid</th>\n",
       "      <th>position</th>\n",
       "      <th>positionText</th>\n",
       "      <th>positionOrder</th>\n",
       "      <th>points</th>\n",
       "      <th>laps</th>\n",
       "      <th>rank</th>\n",
       "    </tr>\n",
       "  </thead>\n",
       "  <tbody>\n",
       "    <tr>\n",
       "      <th>0</th>\n",
       "      <td>1</td>\n",
       "      <td>18</td>\n",
       "      <td>1</td>\n",
       "      <td>1</td>\n",
       "      <td>22</td>\n",
       "      <td>1</td>\n",
       "      <td>1</td>\n",
       "      <td>1</td>\n",
       "      <td>1</td>\n",
       "      <td>10.0</td>\n",
       "      <td>58</td>\n",
       "      <td>2</td>\n",
       "    </tr>\n",
       "    <tr>\n",
       "      <th>1</th>\n",
       "      <td>2</td>\n",
       "      <td>18</td>\n",
       "      <td>2</td>\n",
       "      <td>2</td>\n",
       "      <td>3</td>\n",
       "      <td>5</td>\n",
       "      <td>2</td>\n",
       "      <td>2</td>\n",
       "      <td>2</td>\n",
       "      <td>8.0</td>\n",
       "      <td>58</td>\n",
       "      <td>3</td>\n",
       "    </tr>\n",
       "    <tr>\n",
       "      <th>2</th>\n",
       "      <td>3</td>\n",
       "      <td>18</td>\n",
       "      <td>3</td>\n",
       "      <td>3</td>\n",
       "      <td>7</td>\n",
       "      <td>7</td>\n",
       "      <td>3</td>\n",
       "      <td>3</td>\n",
       "      <td>3</td>\n",
       "      <td>6.0</td>\n",
       "      <td>58</td>\n",
       "      <td>5</td>\n",
       "    </tr>\n",
       "    <tr>\n",
       "      <th>3</th>\n",
       "      <td>4</td>\n",
       "      <td>18</td>\n",
       "      <td>4</td>\n",
       "      <td>4</td>\n",
       "      <td>5</td>\n",
       "      <td>11</td>\n",
       "      <td>4</td>\n",
       "      <td>4</td>\n",
       "      <td>4</td>\n",
       "      <td>5.0</td>\n",
       "      <td>58</td>\n",
       "      <td>7</td>\n",
       "    </tr>\n",
       "    <tr>\n",
       "      <th>4</th>\n",
       "      <td>5</td>\n",
       "      <td>18</td>\n",
       "      <td>5</td>\n",
       "      <td>1</td>\n",
       "      <td>23</td>\n",
       "      <td>3</td>\n",
       "      <td>5</td>\n",
       "      <td>5</td>\n",
       "      <td>5</td>\n",
       "      <td>4.0</td>\n",
       "      <td>58</td>\n",
       "      <td>1</td>\n",
       "    </tr>\n",
       "    <tr>\n",
       "      <th>...</th>\n",
       "      <td>...</td>\n",
       "      <td>...</td>\n",
       "      <td>...</td>\n",
       "      <td>...</td>\n",
       "      <td>...</td>\n",
       "      <td>...</td>\n",
       "      <td>...</td>\n",
       "      <td>...</td>\n",
       "      <td>...</td>\n",
       "      <td>...</td>\n",
       "      <td>...</td>\n",
       "      <td>...</td>\n",
       "    </tr>\n",
       "    <tr>\n",
       "      <th>26514</th>\n",
       "      <td>26520</td>\n",
       "      <td>1132</td>\n",
       "      <td>839</td>\n",
       "      <td>214</td>\n",
       "      <td>31</td>\n",
       "      <td>18</td>\n",
       "      <td>16</td>\n",
       "      <td>16</td>\n",
       "      <td>16</td>\n",
       "      <td>0.0</td>\n",
       "      <td>50</td>\n",
       "      <td>16</td>\n",
       "    </tr>\n",
       "    <tr>\n",
       "      <th>26515</th>\n",
       "      <td>26521</td>\n",
       "      <td>1132</td>\n",
       "      <td>815</td>\n",
       "      <td>9</td>\n",
       "      <td>11</td>\n",
       "      <td>0</td>\n",
       "      <td>17</td>\n",
       "      <td>17</td>\n",
       "      <td>17</td>\n",
       "      <td>0.0</td>\n",
       "      <td>50</td>\n",
       "      <td>6</td>\n",
       "    </tr>\n",
       "    <tr>\n",
       "      <th>26516</th>\n",
       "      <td>26522</td>\n",
       "      <td>1132</td>\n",
       "      <td>855</td>\n",
       "      <td>15</td>\n",
       "      <td>24</td>\n",
       "      <td>14</td>\n",
       "      <td>18</td>\n",
       "      <td>18</td>\n",
       "      <td>18</td>\n",
       "      <td>0.0</td>\n",
       "      <td>50</td>\n",
       "      <td>17</td>\n",
       "    </tr>\n",
       "    <tr>\n",
       "      <th>26517</th>\n",
       "      <td>26523</td>\n",
       "      <td>1132</td>\n",
       "      <td>847</td>\n",
       "      <td>131</td>\n",
       "      <td>63</td>\n",
       "      <td>1</td>\n",
       "      <td>\\N</td>\n",
       "      <td>R</td>\n",
       "      <td>19</td>\n",
       "      <td>0.0</td>\n",
       "      <td>33</td>\n",
       "      <td>19</td>\n",
       "    </tr>\n",
       "    <tr>\n",
       "      <th>26518</th>\n",
       "      <td>26524</td>\n",
       "      <td>1132</td>\n",
       "      <td>842</td>\n",
       "      <td>214</td>\n",
       "      <td>10</td>\n",
       "      <td>19</td>\n",
       "      <td>\\N</td>\n",
       "      <td>W</td>\n",
       "      <td>20</td>\n",
       "      <td>0.0</td>\n",
       "      <td>0</td>\n",
       "      <td>0</td>\n",
       "    </tr>\n",
       "  </tbody>\n",
       "</table>\n",
       "<p>26519 rows × 12 columns</p>\n",
       "</div>"
      ],
      "text/plain": [
       "       resultId  raceId  driverId  constructorId number  grid position  \\\n",
       "0             1      18         1              1     22     1        1   \n",
       "1             2      18         2              2      3     5        2   \n",
       "2             3      18         3              3      7     7        3   \n",
       "3             4      18         4              4      5    11        4   \n",
       "4             5      18         5              1     23     3        5   \n",
       "...         ...     ...       ...            ...    ...   ...      ...   \n",
       "26514     26520    1132       839            214     31    18       16   \n",
       "26515     26521    1132       815              9     11     0       17   \n",
       "26516     26522    1132       855             15     24    14       18   \n",
       "26517     26523    1132       847            131     63     1       \\N   \n",
       "26518     26524    1132       842            214     10    19       \\N   \n",
       "\n",
       "      positionText  positionOrder  points  laps rank  \n",
       "0                1              1    10.0    58    2  \n",
       "1                2              2     8.0    58    3  \n",
       "2                3              3     6.0    58    5  \n",
       "3                4              4     5.0    58    7  \n",
       "4                5              5     4.0    58    1  \n",
       "...            ...            ...     ...   ...  ...  \n",
       "26514           16             16     0.0    50   16  \n",
       "26515           17             17     0.0    50    6  \n",
       "26516           18             18     0.0    50   17  \n",
       "26517            R             19     0.0    33   19  \n",
       "26518            W             20     0.0     0    0  \n",
       "\n",
       "[26519 rows x 12 columns]"
      ]
     },
     "execution_count": 12,
     "metadata": {},
     "output_type": "execute_result"
    }
   ],
   "source": [
    "df_results = data_frames['results']\n",
    "# df_results.info()\n",
    "\n",
    "df_results.drop('fastestLapTime', axis=1, inplace=True)\n",
    "df_results.drop('fastestLapSpeed', axis=1, inplace=True)\n",
    "df_results.drop('fastestLap', axis=1, inplace=True)\n",
    "df_results.drop('statusId', axis=1, inplace=True)\n",
    "df_results.drop('milliseconds', axis=1, inplace=True)\n",
    "df_results.drop('time', axis=1, inplace=True)\n",
    "df_results\n"
   ]
  },
  {
   "cell_type": "code",
   "execution_count": 13,
   "metadata": {
    "colab": {
     "base_uri": "https://localhost:8080/",
     "height": 423
    },
    "collapsed": true,
    "id": "Gm6GqOFgoSa-",
    "outputId": "eb8b8eea-8c3b-4af2-ecc1-7612662a9f10"
   },
   "outputs": [
    {
     "data": {
      "text/html": [
       "<div>\n",
       "<style scoped>\n",
       "    .dataframe tbody tr th:only-of-type {\n",
       "        vertical-align: middle;\n",
       "    }\n",
       "\n",
       "    .dataframe tbody tr th {\n",
       "        vertical-align: top;\n",
       "    }\n",
       "\n",
       "    .dataframe thead th {\n",
       "        text-align: right;\n",
       "    }\n",
       "</style>\n",
       "<table border=\"1\" class=\"dataframe\">\n",
       "  <thead>\n",
       "    <tr style=\"text-align: right;\">\n",
       "      <th></th>\n",
       "      <th>resultId</th>\n",
       "      <th>raceId</th>\n",
       "      <th>driverId</th>\n",
       "      <th>constructorId</th>\n",
       "      <th>number</th>\n",
       "      <th>position</th>\n",
       "      <th>positionOrder</th>\n",
       "      <th>rank</th>\n",
       "    </tr>\n",
       "  </thead>\n",
       "  <tbody>\n",
       "    <tr>\n",
       "      <th>0</th>\n",
       "      <td>1</td>\n",
       "      <td>18</td>\n",
       "      <td>1</td>\n",
       "      <td>1</td>\n",
       "      <td>22</td>\n",
       "      <td>1</td>\n",
       "      <td>1</td>\n",
       "      <td>2</td>\n",
       "    </tr>\n",
       "    <tr>\n",
       "      <th>1</th>\n",
       "      <td>2</td>\n",
       "      <td>18</td>\n",
       "      <td>2</td>\n",
       "      <td>2</td>\n",
       "      <td>3</td>\n",
       "      <td>2</td>\n",
       "      <td>2</td>\n",
       "      <td>3</td>\n",
       "    </tr>\n",
       "    <tr>\n",
       "      <th>2</th>\n",
       "      <td>3</td>\n",
       "      <td>18</td>\n",
       "      <td>3</td>\n",
       "      <td>3</td>\n",
       "      <td>7</td>\n",
       "      <td>3</td>\n",
       "      <td>3</td>\n",
       "      <td>5</td>\n",
       "    </tr>\n",
       "    <tr>\n",
       "      <th>3</th>\n",
       "      <td>4</td>\n",
       "      <td>18</td>\n",
       "      <td>4</td>\n",
       "      <td>4</td>\n",
       "      <td>5</td>\n",
       "      <td>4</td>\n",
       "      <td>4</td>\n",
       "      <td>7</td>\n",
       "    </tr>\n",
       "    <tr>\n",
       "      <th>4</th>\n",
       "      <td>5</td>\n",
       "      <td>18</td>\n",
       "      <td>5</td>\n",
       "      <td>1</td>\n",
       "      <td>23</td>\n",
       "      <td>5</td>\n",
       "      <td>5</td>\n",
       "      <td>1</td>\n",
       "    </tr>\n",
       "    <tr>\n",
       "      <th>...</th>\n",
       "      <td>...</td>\n",
       "      <td>...</td>\n",
       "      <td>...</td>\n",
       "      <td>...</td>\n",
       "      <td>...</td>\n",
       "      <td>...</td>\n",
       "      <td>...</td>\n",
       "      <td>...</td>\n",
       "    </tr>\n",
       "    <tr>\n",
       "      <th>26514</th>\n",
       "      <td>26520</td>\n",
       "      <td>1132</td>\n",
       "      <td>839</td>\n",
       "      <td>214</td>\n",
       "      <td>31</td>\n",
       "      <td>16</td>\n",
       "      <td>16</td>\n",
       "      <td>16</td>\n",
       "    </tr>\n",
       "    <tr>\n",
       "      <th>26515</th>\n",
       "      <td>26521</td>\n",
       "      <td>1132</td>\n",
       "      <td>815</td>\n",
       "      <td>9</td>\n",
       "      <td>11</td>\n",
       "      <td>17</td>\n",
       "      <td>17</td>\n",
       "      <td>6</td>\n",
       "    </tr>\n",
       "    <tr>\n",
       "      <th>26516</th>\n",
       "      <td>26522</td>\n",
       "      <td>1132</td>\n",
       "      <td>855</td>\n",
       "      <td>15</td>\n",
       "      <td>24</td>\n",
       "      <td>18</td>\n",
       "      <td>18</td>\n",
       "      <td>17</td>\n",
       "    </tr>\n",
       "    <tr>\n",
       "      <th>26517</th>\n",
       "      <td>26523</td>\n",
       "      <td>1132</td>\n",
       "      <td>847</td>\n",
       "      <td>131</td>\n",
       "      <td>63</td>\n",
       "      <td>\\N</td>\n",
       "      <td>19</td>\n",
       "      <td>19</td>\n",
       "    </tr>\n",
       "    <tr>\n",
       "      <th>26518</th>\n",
       "      <td>26524</td>\n",
       "      <td>1132</td>\n",
       "      <td>842</td>\n",
       "      <td>214</td>\n",
       "      <td>10</td>\n",
       "      <td>\\N</td>\n",
       "      <td>20</td>\n",
       "      <td>0</td>\n",
       "    </tr>\n",
       "  </tbody>\n",
       "</table>\n",
       "<p>26519 rows × 8 columns</p>\n",
       "</div>"
      ],
      "text/plain": [
       "       resultId  raceId  driverId  constructorId number position  \\\n",
       "0             1      18         1              1     22        1   \n",
       "1             2      18         2              2      3        2   \n",
       "2             3      18         3              3      7        3   \n",
       "3             4      18         4              4      5        4   \n",
       "4             5      18         5              1     23        5   \n",
       "...         ...     ...       ...            ...    ...      ...   \n",
       "26514     26520    1132       839            214     31       16   \n",
       "26515     26521    1132       815              9     11       17   \n",
       "26516     26522    1132       855             15     24       18   \n",
       "26517     26523    1132       847            131     63       \\N   \n",
       "26518     26524    1132       842            214     10       \\N   \n",
       "\n",
       "       positionOrder rank  \n",
       "0                  1    2  \n",
       "1                  2    3  \n",
       "2                  3    5  \n",
       "3                  4    7  \n",
       "4                  5    1  \n",
       "...              ...  ...  \n",
       "26514             16   16  \n",
       "26515             17    6  \n",
       "26516             18   17  \n",
       "26517             19   19  \n",
       "26518             20    0  \n",
       "\n",
       "[26519 rows x 8 columns]"
      ]
     },
     "execution_count": 13,
     "metadata": {},
     "output_type": "execute_result"
    }
   ],
   "source": [
    "df_results.drop('grid', axis=1, inplace=True)\n",
    "df_results.drop('positionText', axis=1, inplace=True)\n",
    "df_results.drop('points', axis=1, inplace=True)\n",
    "df_results.drop('laps', axis=1, inplace=True)\n",
    "df_results\n"
   ]
  },
  {
   "cell_type": "code",
   "execution_count": 14,
   "metadata": {
    "colab": {
     "base_uri": "https://localhost:8080/",
     "height": 564
    },
    "collapsed": true,
    "id": "YhqlPluNo1A1",
    "outputId": "5d53179e-613e-4a6b-8503-4f34e19da0ac"
   },
   "outputs": [
    {
     "data": {
      "image/png": "[encoded data removed]",
      "text/plain": [
       "<Figure size 1000x600 with 1 Axes>"
      ]
     },
     "metadata": {},
     "output_type": "display_data"
    }
   ],
   "source": [
    "import pandas as pd\n",
    "import matplotlib.pyplot as plt\n",
    "\n",
    "hamilton_driver_id = 1\n",
    "\n",
    "hamilton_results = df_results[df_results['driverId'] == hamilton_driver_id]\n",
    "\n",
    "hamilton_positions = hamilton_results[['raceId', 'position']]\n",
    "\n",
    "hamilton_positions_sorted = hamilton_positions.sort_values(by='raceId')\n",
    "\n",
    "\n",
    "plt.figure(figsize=(10, 6))\n",
    "plt.plot(hamilton_positions_sorted['raceId'], hamilton_positions_sorted['position'], marker='o', linestyle='-', color='b')\n",
    "\n",
    "plt.gca().invert_yaxis()\n",
    "\n",
    "plt.title(f'Hamilton (Driver ID {hamilton_driver_id}) Positions Over the Races')\n",
    "plt.xlabel('Race ID')\n",
    "plt.ylabel('Position')\n",
    "plt.grid(True)\n",
    "plt.show()\n"
   ]
  },
  {
   "cell_type": "markdown",
   "metadata": {
    "id": "BJwOkWlnjEqJ"
   },
   "source": [
    "Hamilton's Races and victories"
   ]
  },
  {
   "cell_type": "code",
   "execution_count": 15,
   "metadata": {
    "colab": {
     "base_uri": "https://localhost:8080/"
    },
    "collapsed": true,
    "id": "IdHT22IOnDdK",
    "outputId": "cc178688-55a8-4603-9931-e11c17ebfa8d"
   },
   "outputs": [
    {
     "name": "stdout",
     "output_type": "stream",
     "text": [
      "       resultId  raceId  driverId  constructorId number position  \\\n",
      "22546     22550     926       830              5     33       \\N   \n",
      "22558     22562     927       830              5     33        7   \n",
      "22588     22592     928       830              5     33       17   \n",
      "22609     22613     929       830              5     33       \\N   \n",
      "22622     22626     930       830              5     33       11   \n",
      "...         ...     ...       ...            ...    ...      ...   \n",
      "26424     26430    1128       830              9      1        6   \n",
      "26439     26445    1129       830              9      1        1   \n",
      "26459     26465    1130       830              9      1        1   \n",
      "26483     26489    1131       830              9      1        5   \n",
      "26500     26506    1132       830              9      1        2   \n",
      "\n",
      "       positionOrder rank  \n",
      "22546             13   13  \n",
      "22558              7    9  \n",
      "22588             17   14  \n",
      "22609             18   16  \n",
      "22622             11   12  \n",
      "...              ...  ...  \n",
      "26424              6    0  \n",
      "26439              1    4  \n",
      "26459              1    2  \n",
      "26483              5    2  \n",
      "26500              2    3  \n",
      "\n",
      "[197 rows x 8 columns]\n",
      "Total Races 197\n"
     ]
    }
   ],
   "source": [
    "\n",
    "\n",
    "def getDriverResults(data, driverId):\n",
    "  driverResults = data[data['driverId'] == driverId]\n",
    "  return driverResults\n",
    "\n",
    "driverResults = getDriverResults(df_results, 830)\n",
    "print(driverResults)\n",
    "\n",
    "resultsCount = driverResults['resultId'].count()\n",
    "print(\"Total Races\",resultsCount)\n",
    "\n",
    "\n"
   ]
  },
  {
   "cell_type": "code",
   "execution_count": 16,
   "metadata": {
    "colab": {
     "base_uri": "https://localhost:8080/"
    },
    "collapsed": true,
    "id": "aZaw29eUntmV",
    "outputId": "556a9018-e2e8-4aaa-badb-3481d76c74f7"
   },
   "outputs": [
    {
     "name": "stdout",
     "output_type": "stream",
     "text": [
      "['2' '5' '1' '6' '\\\\N' '7' '3' '19' '9' '4' '8' '10' '11' '16' '12' '15'\n",
      " '17']\n"
     ]
    }
   ],
   "source": [
    "# print(driverResults['position'].unique())\n",
    "print(driverResults['position'].sort_index(ascending=False).unique())"
   ]
  },
  {
   "cell_type": "code",
   "execution_count": 17,
   "metadata": {
    "colab": {
     "base_uri": "https://localhost:8080/"
    },
    "collapsed": true,
    "id": "LMpr5uGHn1q5",
    "outputId": "70348fa5-8691-4b5d-8553-de9750aa519c"
   },
   "outputs": [
    {
     "name": "stdout",
     "output_type": "stream",
     "text": [
      "object\n"
     ]
    }
   ],
   "source": [
    "print(driverResults['position'].dtype)"
   ]
  },
  {
   "cell_type": "code",
   "execution_count": 18,
   "metadata": {
    "colab": {
     "base_uri": "https://localhost:8080/"
    },
    "id": "outmd3lXJaZE",
    "outputId": "dcd9b902-18b1-4894-b547-750cae225891"
   },
   "outputs": [
    {
     "name": "stdout",
     "output_type": "stream",
     "text": [
      "Total victories : 61\n"
     ]
    }
   ],
   "source": [
    "# driverResults[driverResults['position'] == '1']\n",
    "# Correct way to filter for rows where 'position' is '1'\n",
    "victories = driverResults[driverResults['position'] == '1']\n",
    "# print(victories)\n",
    "print(f\"Total victories : {victories['position'].count()}\")"
   ]
  },
  {
   "cell_type": "code",
   "execution_count": 19,
   "metadata": {},
   "outputs": [
    {
     "name": "stdout",
     "output_type": "stream",
     "text": [
      "victories table: Index(['resultId', 'raceId', 'driverId', 'constructorId', 'number', 'position',\n",
      "       'positionOrder', 'rank'],\n",
      "      dtype='object')\n",
      "Races table:  Index(['raceId', 'year', 'round', 'circuitId', 'name', 'date', 'time', 'url',\n",
      "       'fp1_date', 'fp1_time', 'fp2_date', 'fp2_time', 'fp3_date', 'fp3_time',\n",
      "       'quali_date', 'quali_time', 'sprint_date', 'sprint_time'],\n",
      "      dtype='object')\n"
     ]
    }
   ],
   "source": [
    "print(f\"victories table: {victories.columns}\")\n",
    "print(f\"Races table:  {df_races.columns}\")"
   ]
  },
  {
   "cell_type": "code",
   "execution_count": 20,
   "metadata": {
    "colab": {
     "base_uri": "https://localhost:8080/"
    },
    "collapsed": true,
    "id": "k987Rza3nFar",
    "outputId": "99296da2-d3c2-4985-fc0a-4081ed381cc8"
   },
   "outputs": [
    {
     "name": "stdout",
     "output_type": "stream",
     "text": [
      "    raceId  year                       name position\n",
      "0      952  2016         Spanish Grand Prix        1\n",
      "1      983  2017       Malaysian Grand Prix        1\n",
      "2      986  2017         Mexican Grand Prix        1\n",
      "3      997  2018        Austrian Grand Prix        1\n",
      "4     1007  2018         Mexican Grand Prix        1\n",
      "..     ...   ...                        ...      ...\n",
      "56    1124  2024        Japanese Grand Prix        1\n",
      "57    1125  2024         Chinese Grand Prix        1\n",
      "58    1127  2024  Emilia Romagna Grand Prix        1\n",
      "59    1129  2024        Canadian Grand Prix        1\n",
      "60    1130  2024         Spanish Grand Prix        1\n",
      "\n",
      "[61 rows x 4 columns]\n"
     ]
    }
   ],
   "source": [
    "victories_with_races_names = victories.merge(df_races, on='raceId', how='left')[['raceId', 'year', 'name', 'position']]\n",
    "print(victories_with_races_names)\n"
   ]
  },
  {
   "cell_type": "code",
   "execution_count": 21,
   "metadata": {},
   "outputs": [
    {
     "name": "stdout",
     "output_type": "stream",
     "text": [
      "Driver: hamilton (ID: 1)\n",
      "Total Races Participated: 344\n",
      "Total Victories: 104\n",
      "Win Percentage: 30.23%\n"
     ]
    }
   ],
   "source": [
    "import pandas as pd\n",
    "\n",
    "# Function to get results for a specific driver\n",
    "def get_driver_results(data, driver_id):\n",
    "    \"\"\"Fetch all race results for a specific driver.\"\"\"\n",
    "    return data[data['driverId'] == driver_id]\n",
    "\n",
    "# Function to calculate total victories\n",
    "def get_victory_count(data):\n",
    "    \"\"\"Count the total number of victories (position = 1) for a driver.\"\"\"\n",
    "    return data['raceId'].count()\n",
    "\n",
    "# Function to calculate total races participated by a driver\n",
    "def get_total_races(data, driver_id):\n",
    "    \"\"\"Get the total number of races participated by a driver.\"\"\"\n",
    "    return data[data['driverId'] == driver_id]['raceId'].count()\n",
    "\n",
    "# Function to calculate win percentage\n",
    "def calculate_win_percentage(total_races, victories):\n",
    "    \"\"\"Calculate the win percentage of a driver.\"\"\"\n",
    "    if total_races == 0:\n",
    "        return 0.0\n",
    "    percentage = (victories / total_races) * 100\n",
    "    return round(percentage, 2)\n",
    "\n",
    "# Main logic\n",
    "def main():\n",
    "    driver_id = int(input(\"Enter the driver ID: \"))\n",
    "    \n",
    "    # Get driver results\n",
    "    driver_results = get_driver_results(df_results, driver_id)\n",
    "\n",
    "    # Filter victories (position = 1)\n",
    "    victories = driver_results[driver_results['position'] == '1']\n",
    "    \n",
    "    # Merge victories with race details for more information\n",
    "    victories_with_race_names = victories.merge(\n",
    "        df_races, on='raceId', how='left'\n",
    "    )[['raceId', 'year', 'name', 'position']]\n",
    "\n",
    "    # Extract driver's information\n",
    "    driver_info = df_drivers[df_drivers['driverId'] == driver_id]\n",
    "    driver_name = driver_info['driverRef'].values[0]\n",
    "\n",
    "    # Calculate total races and victories\n",
    "    total_races = get_total_races(df_results, driver_id)\n",
    "    victory_count = get_victory_count(victories_with_race_names)\n",
    "\n",
    "    # Calculate win percentage\n",
    "    win_percentage = calculate_win_percentage(total_races, victory_count)\n",
    "\n",
    "    # Display results\n",
    "    print(f\"Driver: {driver_name} (ID: {driver_id})\")\n",
    "    print(f\"Total Races Participated: {total_races}\")\n",
    "    print(f\"Total Victories: {victory_count}\")\n",
    "    print(f\"Win Percentage: {win_percentage}%\")\n",
    "\n",
    "# Run the program\n",
    "if __name__ == \"__main__\":\n",
    "    main()\n"
   ]
  },
  {
   "cell_type": "code",
   "execution_count": 24,
   "metadata": {},
   "outputs": [
    {
     "data": {
      "image/png": "[encoded data removed]",
      "text/plain": [
       "<Figure size 1000x600 with 1 Axes>"
      ]
     },
     "metadata": {},
     "output_type": "display_data"
    }
   ],
   "source": [
    "import pandas as pd\n",
    "import matplotlib.pyplot as plt\n",
    "\n",
    "# Function to get results for a specific driver\n",
    "def get_driver_results(data, driver_id):\n",
    "    \"\"\"Fetch all race results for a specific driver.\"\"\"\n",
    "    return data[data['driverId'] == driver_id]\n",
    "\n",
    "# Function to calculate total victories\n",
    "def get_victory_count(data):\n",
    "    \"\"\"Count the total number of victories (position = 1) for a driver.\"\"\"\n",
    "    return data['raceId'].count()\n",
    "\n",
    "# Function to calculate total races participated by a driver\n",
    "def get_total_races(data, driver_id):\n",
    "    \"\"\"Get the total number of races participated by a driver.\"\"\"\n",
    "    return data[data['driverId'] == driver_id]['raceId'].count()\n",
    "\n",
    "# Function to calculate win percentage\n",
    "def calculate_win_percentage(total_races, victories):\n",
    "    \"\"\"Calculate the win percentage of a driver.\"\"\"\n",
    "    if total_races == 0:\n",
    "        return 0.0\n",
    "    percentage = (victories / total_races) * 100\n",
    "    return round(percentage, 2)\n",
    "\n",
    "# Function to calculate win percentage for a specific driver ID\n",
    "def calculate_driver_win_percentage(data, races_data, driver_id):\n",
    "    \"\"\"Fetch the win percentage for a specific driver ID.\"\"\"\n",
    "    driver_results = get_driver_results(data, driver_id)\n",
    "    victories = driver_results[driver_results['position'] == '1']\n",
    "    total_races = get_total_races(data, driver_id)\n",
    "    victory_count = get_victory_count(\n",
    "        victories.merge(races_data, on='raceId', how='left')\n",
    "    )\n",
    "    return calculate_win_percentage(total_races, victory_count)\n",
    "\n",
    "# Main logic to calculate win percentages for multiple Driver IDs\n",
    "def main():\n",
    "    # List of Driver IDs to compare\n",
    "    driver_ids = [1, 830, 832,822,855,848, 844, 840, 4, 846, 848, 857, 859, 858, 825, 852, 839, 842]\n",
    "    win_percentages = []\n",
    "\n",
    "    for driver_id in driver_ids:\n",
    "        win_percentage = calculate_driver_win_percentage(df_results, df_races, driver_id)\n",
    "        driver_name = df_drivers[df_drivers['driverId'] == driver_id]['driverRef'].values[0]\n",
    "        win_percentages.append((driver_name, win_percentage))\n",
    "\n",
    "    # Sort drivers by win percentage (optional)\n",
    "    win_percentages.sort(key=lambda x: x[1], reverse=True)\n",
    "\n",
    "    # Prepare data for plotting\n",
    "    driver_names = [item[0] for item in win_percentages]\n",
    "    percentages = [item[1] for item in win_percentages]\n",
    "\n",
    "    # Plotting the win percentages\n",
    "    plt.figure(figsize=(10, 6))\n",
    "    bars = plt.bar(driver_names, percentages, color=plt.cm.tab20.colors[:len(driver_names)])\n",
    "    plt.title('Win Percentages of Drivers', fontsize=16)\n",
    "    plt.xlabel('Driver', fontsize=14)\n",
    "    plt.ylabel('Win Percentage (%)', fontsize=14)\n",
    "    plt.ylim(0, max(percentages) + 10)  # Adjusting y-axis for clarity\n",
    "    plt.xticks(rotation=45, ha='right', fontsize=12)\n",
    "    plt.grid(axis='y', linestyle='--', alpha=0.7)\n",
    "\n",
    "    # Annotate bars with percentages\n",
    "    for bar, percentage in zip(bars, percentages):\n",
    "        height = bar.get_height()\n",
    "        plt.text(bar.get_x() + bar.get_width() / 2.0, height + 1, f'{percentage:.2f}%', ha='center', fontsize=10)\n",
    "\n",
    "    plt.tight_layout()\n",
    "    plt.show()\n",
    "\n",
    "# Run the program\n",
    "if __name__ == \"__main__\":\n",
    "    main()\n"
   ]
  },
  {
   "cell_type": "markdown",
   "metadata": {
    "id": "Gu60YaLNqOxR"
   },
   "source": [
    "Latest Race in Data"
   ]
  },
  {
   "cell_type": "code",
   "execution_count": 22,
   "metadata": {
    "colab": {
     "base_uri": "https://localhost:8080/"
    },
    "id": "NKSt4Y3smqV9",
    "outputId": "62518c62-eda0-4e9f-f662-bc547e78d19a"
   },
   "outputs": [
    {
     "name": "stdout",
     "output_type": "stream",
     "text": [
      "The latest date in the races dataset is: 2024-12-08 00:00:00\n"
     ]
    }
   ],
   "source": [
    "df_races['date'] = pd.to_datetime(df_races['date'], errors='coerce')\n",
    "latest_date = df_races['date'].max()\n",
    "\n",
    "# Print the result\n",
    "print(f\"The latest date in the races dataset is: {latest_date}\")\n"
   ]
  },
  {
   "cell_type": "markdown",
   "metadata": {
    "id": "WZDdLOgU_p7w"
   },
   "source": [
    "Droping.. Duplicates and Missing  Data"
   ]
  },
  {
   "cell_type": "code",
   "execution_count": null,
   "metadata": {
    "colab": {
     "base_uri": "https://localhost:8080/"
    },
    "collapsed": true,
    "id": "3MaOLcoL_ln8",
    "outputId": "092eeb7f-d547-4faf-83d9-29fb69fcfe7a"
   },
   "outputs": [],
   "source": [
    "print(df_races.drop_duplicates(inplace=True))\n",
    "print(df_results.drop_duplicates(inplace=True))\n",
    "print(df_drivers.drop_duplicates(inplace=True))\n",
    "print(df_constructors.drop_duplicates(inplace=True))\n",
    "print(df_constructor_results.drop_duplicates(inplace=True))\n",
    "print(df_constructor_standings.drop_duplicates(inplace=True))\n",
    "print(df_driver_standings.drop_duplicates(inplace=True))\n",
    "print(df_lap_times.drop_duplicates(inplace=True))\n",
    "print(df_pit_stops.drop_duplicates(inplace=True))\n",
    "print(df_qualifying.drop_duplicates(inplace=True))\n",
    "\n"
   ]
  },
  {
   "cell_type": "markdown",
   "metadata": {
    "id": "-NiWokaMEf2W"
   },
   "source": [
    "Predictive Imputation  (Regression)"
   ]
  },
  {
   "cell_type": "code",
   "execution_count": 24,
   "metadata": {
    "colab": {
     "base_uri": "https://localhost:8080/",
     "height": 391
    },
    "collapsed": true,
    "id": "bTVWvL6hCCUV",
    "outputId": "62fdf137-de31-4bc2-f865-0c31cb4a6a24"
   },
   "outputs": [],
   "source": [
    "from sklearn.ensemble import RandomForestRegressor\n",
    "from sklearn.model_selection import train_test_split\n",
    "import numpy as np # Import numpy for numeric operations\n",
    "import pandas as pd # Import pandas for data manipulation\n",
    "\n",
    "\n",
    "def predictive_imputation(df, target_col, features):\n",
    "    # Replace '\\\\N' with NaN to be handled by pandas\n",
    "    df[target_col] = pd.to_numeric(df[target_col], errors='coerce')\n",
    "\n",
    "    # Separate rows with missing and non-missing target values\n",
    "    missing = df[df[target_col].isnull()]\n",
    "    non_missing = df[df[target_col].notnull()]\n",
    "\n",
    "    # Train a model on non-missing data\n",
    "    X_train = non_missing[features]\n",
    "    y_train = non_missing[target_col]\n",
    "    model = RandomForestRegressor()\n",
    "    model.fit(X_train, y_train)\n",
    "\n",
    "    # Predict missing values\n",
    "    X_missing = missing[features]\n",
    "    df.loc[missing.index, target_col] = model.predict(X_missing)\n",
    "\n",
    "    return df\n",
    "\n",
    "# Example usage\n",
    "# Assuming 'df_results' is the DataFrame you intend to use\n",
    "df_results = predictive_imputation(df_results, target_col='position', features=['raceId', 'driverId'])\n"
   ]
  },
  {
   "cell_type": "markdown",
   "metadata": {
    "id": "JZloxdmiEqAu"
   },
   "source": [
    "Forward/Backward Fill"
   ]
  },
  {
   "cell_type": "code",
   "execution_count": 25,
   "metadata": {
    "colab": {
     "base_uri": "https://localhost:8080/",
     "height": 458
    },
    "collapsed": true,
    "id": "jKAFLv8fEuTY",
    "outputId": "5fa582a3-d839-4c05-e761-fbd7ec98cb7d"
   },
   "outputs": [
    {
     "data": {
      "text/plain": [
       "0      1.0\n",
       "1      2.0\n",
       "2      3.0\n",
       "3      4.0\n",
       "4      5.0\n",
       "      ... \n",
       "854    3.0\n",
       "855    4.0\n",
       "856    5.0\n",
       "857    6.0\n",
       "858    7.0\n",
       "Name: position, Length: 859, dtype: float64"
      ]
     },
     "execution_count": 25,
     "metadata": {},
     "output_type": "execute_result"
    }
   ],
   "source": [
    "# Forward Fill\n",
    "df_filled_forward = df_results.ffill()\n",
    "# Backward Fill\n",
    "df_filled_backward = df_results.bfill()\n",
    "# Example: Applying on a specific column\n",
    "df['position'] = df_results['position'].ffill()\n",
    "df['position']"
   ]
  },
  {
   "cell_type": "markdown",
   "metadata": {
    "id": "-gqUfCjlExGK"
   },
   "source": [
    "Interpolation"
   ]
  },
  {
   "cell_type": "code",
   "execution_count": null,
   "metadata": {
    "id": "i1yKP5LXHvw9"
   },
   "outputs": [],
   "source": [
    "# Linear Interpolation\n",
    "# Check if 'position' column exists in df_races\n",
    "if 'position' in df_results.columns:\n",
    "    df['position'] = df_results['position'].interpolate(method='linear')\n",
    "else:\n",
    "    # Handle the case where 'position' column is not found\n",
    "    # For example, you might want to create a new 'position' column\n",
    "    # or raise a more informative error message\n",
    "    print(\"Column 'position' not found in df_races.\")\n",
    "\n",
    "# Polynomial Interpolation (e.g., quadratic)\n",
    "if 'position' in df_results.columns:\n",
    "    df['position'] = df_results['position'].interpolate(method='polynomial', order=2)\n",
    "else:\n",
    "    print(\"Column 'position' not found in df_races.\")\n",
    "\n",
    "# Time Interpolation (for time-series data)\n",
    "if 'position' in df_results.columns:\n",
    "    df['position'] = df_results['position'].interpolate(method='time')\n",
    "else:\n",
    "    print(\"Column 'position' not found in df_races.\")\n"
   ]
  },
  {
   "cell_type": "code",
   "execution_count": null,
   "metadata": {
    "id": "j_6PEvtVHUfT"
   },
   "outputs": [],
   "source": [
    "df_results.dropna(inplace=True)"
   ]
  },
  {
   "cell_type": "markdown",
   "metadata": {
    "id": "hqJzUF7aITmX"
   },
   "source": [
    "Outliers Detection\n"
   ]
  },
  {
   "cell_type": "code",
   "execution_count": 26,
   "metadata": {
    "colab": {
     "base_uri": "https://localhost:8080/"
    },
    "id": "6Vx0DLFUIYv5",
    "outputId": "a6364dbc-f04e-4ed8-c64f-b984d970d8e0"
   },
   "outputs": [
    {
     "name": "stdout",
     "output_type": "stream",
     "text": [
      "max 33.0\n",
      "min 1.0\n",
      "mean 8.12639381198386\n",
      "median 8.0\n",
      "mode 0    4.0\n",
      "Name: position, dtype: float64\n",
      "std: 4.287255123547758\n"
     ]
    }
   ],
   "source": [
    "# import numpy as np\n",
    "\n",
    "# def detect_outliers_zscore(data, threshold=3):\n",
    "#     z_scores = np.abs((data - np.mean(data)) / np.std(data))\n",
    "#     outliers = np.where(z_scores > threshold)\n",
    "#     return outliers\n",
    "\n",
    "# # Example\n",
    "# outliers = detect_outliers_zscore(df['position'], threshold=3)\n",
    "# print(\"Outliers indices:\", outliers)\n",
    "print(\"max\", df_results['position'].max())\n",
    "print(\"min\", df_results['position'].min())\n",
    "print(\"mean\",df_results['position'].mean())\n",
    "print(\"median\",df_results['position'].median())\n",
    "print(\"mode\",df_results['position'].mode())\n",
    "print(\"std:\",df_results['position'].std())\n",
    "\n"
   ]
  },
  {
   "cell_type": "markdown",
   "metadata": {
    "id": "CVwxvgfEPXV9"
   },
   "source": [
    "z-score"
   ]
  },
  {
   "cell_type": "code",
   "execution_count": 27,
   "metadata": {
    "colab": {
     "base_uri": "https://localhost:8080/"
    },
    "id": "8mWAf77WPZFI",
    "outputId": "cf0d306e-7283-460e-843c-27518a525f03"
   },
   "outputs": [
    {
     "name": "stdout",
     "output_type": "stream",
     "text": [
      "       raceId  driverId  position\n",
      "630        47        16      21.0\n",
      "18132     748       527      21.0\n",
      "18133     748       528      22.0\n",
      "18134     748       529      23.0\n",
      "18135     748       530      24.0\n",
      "...       ...       ...       ...\n",
      "22977     950       835      22.0\n",
      "23152     958       837      21.0\n",
      "23284     964       839      21.0\n",
      "23285     964       836      22.0\n",
      "23328     966       839      21.0\n",
      "\n",
      "[76 rows x 3 columns]\n"
     ]
    }
   ],
   "source": [
    "from scipy.stats import zscore\n",
    "\n",
    "# Calculate Z-scores for the 'position' column\n",
    "df_results['z_score'] = zscore(df_results['position'])\n",
    "\n",
    "# Find the rows where the Z-score is greater than 3 or less than -3 (a common threshold for outliers)\n",
    "outliers_zscore = df_results[abs(df_results['z_score']) > 3]\n",
    "print(outliers_zscore[['raceId', 'driverId', 'position']])\n"
   ]
  },
  {
   "cell_type": "markdown",
   "metadata": {
    "id": "RURCC3OMRLFT"
   },
   "source": [
    "Removing\n"
   ]
  },
  {
   "cell_type": "code",
   "execution_count": null,
   "metadata": {
    "id": "JJX6nDCFRNer"
   },
   "outputs": [],
   "source": [
    "# Calculate the 1st quartile (Q1) and the 3rd quartile (Q3)\n",
    "Q1 = df_results['position'].quantile(0.25)\n",
    "Q3 = df_results['position'].quantile(0.75)\n",
    "\n",
    "# Calculate the Interquartile Range (IQR)\n",
    "IQR = Q3 - Q1\n",
    "\n",
    "# Define the outlier range\n",
    "lower_bound = Q1 - 1.5 * IQR\n",
    "upper_bound = Q3 + 1.5 * IQR\n",
    "\n",
    "# Remove the outliers: positions outside the IQR range\n",
    "df_results_cleaned = df_results[(df_results['position'] >= lower_bound) & (df_results['position'] <= upper_bound)]\n",
    "\n",
    "# Check the cleaned data\n",
    "print(df_results_cleaned[['raceId', 'driverId', 'position']])\n"
   ]
  },
  {
   "cell_type": "markdown",
   "metadata": {
    "id": "y5GwUZWzPl7k"
   },
   "source": [
    "### IQR\n"
   ]
  },
  {
   "cell_type": "code",
   "execution_count": null,
   "metadata": {
    "id": "ARt6eeaVPnA5"
   },
   "outputs": [],
   "source": [
    "Q1 = df_results['position'].quantile(0.25)\n",
    "Q3 = df_results['position'].quantile(0.75)\n",
    "IQR = Q3 - Q1\n",
    "\n",
    "# Find the outliers\n",
    "outliers_iqr = df_results[(df_results['position'] < (Q1 - 1.5 * IQR)) | (df_results['position'] > (Q3 + 1.5 * IQR))]\n",
    "print(outliers_iqr[['raceId', 'driverId', 'position']])\n"
   ]
  },
  {
   "cell_type": "markdown",
   "metadata": {
    "id": "-euH3PnVPnpf"
   },
   "source": [
    "### Visualization"
   ]
  },
  {
   "cell_type": "code",
   "execution_count": 28,
   "metadata": {
    "colab": {
     "base_uri": "https://localhost:8080/",
     "height": 564
    },
    "id": "NJPB-9MxPrgV",
    "outputId": "5587ff12-1817-4488-eb5c-2be80d75718e"
   },
   "outputs": [
    {
     "data": {
      "image/png": "[encoded data removed]",
      "text/plain": [
       "<Figure size 800x600 with 1 Axes>"
      ]
     },
     "metadata": {},
     "output_type": "display_data"
    }
   ],
   "source": [
    "import seaborn as sns\n",
    "\n",
    "# Create a boxplot to visualize outliers in the 'position' column\n",
    "plt.figure(figsize=(8, 6))\n",
    "sns.boxplot(x=df_results['position'])\n",
    "plt.title('Boxplot of Positions')\n",
    "plt.show()\n"
   ]
  },
  {
   "cell_type": "code",
   "execution_count": null,
   "metadata": {
    "id": "wG-Df0ePQCRL"
   },
   "outputs": [],
   "source": [
    "# Remove outliers (positions > 33, for example, or any other threshold you want)\n",
    "df_cleaned = df_results[df_results['position'] <= 33]\n",
    "print(df_cleaned[['raceId', 'driverId', 'position']])\n"
   ]
  },
  {
   "cell_type": "code",
   "execution_count": null,
   "metadata": {
    "id": "7kCLA4FiQETw"
   },
   "outputs": [],
   "source": [
    "# Replace outliers with the median position value\n",
    "median_position = df_results['position'].median()\n",
    "df_results['position'] = df_results['position'].apply(lambda x: median_position if x > 33 else x)\n"
   ]
  },
  {
   "cell_type": "code",
   "execution_count": null,
   "metadata": {
    "id": "Or7zCM0uQErp"
   },
   "outputs": [],
   "source": [
    "# Replace position 33 with NaN\n",
    "df_results['position'] = df_results['position'].replace(33, pd.NA)\n",
    "\n",
    "# Or, replace with the median or other value\n",
    "df_results['position'] = df_results['position'].replace(33, median_position)\n"
   ]
  }
 ],
 "metadata": {
  "colab": {
   "collapsed_sections": [
    "3y1hY2-iRopG",
    "4UJMypmNAVgw",
    "1t3SRfltAaFm",
    "ESfRVNOBgFSY",
    "t9Lwic4iiDH9",
    "BJwOkWlnjEqJ",
    "WZDdLOgU_p7w",
    "-NiWokaMEf2W",
    "JZloxdmiEqAu",
    "hqJzUF7aITmX",
    "CVwxvgfEPXV9",
    "RURCC3OMRLFT",
    "y5GwUZWzPl7k",
    "-euH3PnVPnpf"
   ],
   "provenance": []
  },
  "kernelspec": {
   "display_name": ".venv",
   "language": "python",
   "name": "python3"
  },
  "language_info": {
   "codemirror_mode": {
    "name": "ipython",
    "version": 3
   },
   "file_extension": ".py",
   "mimetype": "text/x-python",
   "name": "python",
   "nbconvert_exporter": "python",
   "pygments_lexer": "ipython3",
   "version": "3.13.0"
  }
 },
 "nbformat": 4,
 "nbformat_minor": 0
}
